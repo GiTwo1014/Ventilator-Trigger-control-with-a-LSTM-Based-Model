{
 "cells": [
  {
   "cell_type": "code",
   "execution_count": null,
   "id": "f9102032",
   "metadata": {
    "ExecuteTime": {
     "start_time": "2024-08-14T15:19:21.964265Z"
    }
   },
   "outputs": [],
   "source": [
    "#模块调用\n",
    "import numpy as np\n",
    "import math\n",
    "import pywt\n",
    "import pandas as pd\n",
    "from matplotlib.pyplot import figure\n",
    "import matplotlib.pyplot as plt"
   ]
  },
  {
   "cell_type": "code",
   "execution_count": null,
   "id": "ae6d832e",
   "metadata": {
    "ExecuteTime": {
     "end_time": "2024-08-14T15:19:21.965266Z",
     "start_time": "2024-08-14T15:19:21.965266Z"
    }
   },
   "outputs": [],
   "source": [
    "#breath数据读取\n",
    "breath = pd.read_excel('Adult_Normal.xlsx')\n",
    "#### breath['Times'] = pd.to_datetime(passenger['Times'])\n",
    "breath.sort_values(by=['Times'], inplace=True, ascending=True)\n",
    "#breath数据可视化\n",
    "figure(figsize=(12, 5), dpi=80, linewidth=10)\n",
    "plt.plot(breath['Times'], breath['Ventilator Flow (L/min)'])\n",
    "plt.title('----')\n",
    "plt.xlabel('Times', fontsize=14)\n",
    "plt.ylabel('Ventilator Flow (L/min)', fontsize=14)\n",
    "plt.show()"
   ]
  },
  {
   "cell_type": "code",
   "execution_count": null,
   "id": "cd453a09",
   "metadata": {
    "ExecuteTime": {
     "start_time": "2024-08-14T15:19:21.966266Z"
    }
   },
   "outputs": [],
   "source": [
    "#小波变换封装成函数\n",
    "def sgn(num):\n",
    "    if (num > 0):\n",
    "        return 1.0\n",
    "    elif (num == 0):\n",
    "        return 0.0\n",
    "    else:\n",
    "        return -1.0\n",
    "\n",
    "\n",
    "def wavelet_noising(new_df):\n",
    "    data = new_df\n",
    "    data = data.values.T.tolist()  # 将np.ndarray()转为列表\n",
    "    w = pywt.Wavelet('sym5')\n",
    "    # [ca3, cd3, cd2, cd1] = pywt.wavedec(data, w, level=3)  # 分解波\n",
    "    [ca5, cd5, cd4, cd3, cd2, cd1] = pywt.wavedec(data, w, level=5)  # 分解波\n",
    "\n",
    "    length1 = len(cd1)\n",
    "    length0 = len(data)\n",
    "\n",
    "    Cd1 = np.array(cd1)\n",
    "    abs_cd1 = np.abs(Cd1)\n",
    "    median_cd1 = np.median(abs_cd1)\n",
    "\n",
    "    sigma = (1.0 / 0.6745) * median_cd1\n",
    "    lamda = sigma * math.sqrt(2.0 * math.log(float(length0), math.e))\n",
    "    usecoeffs = []\n",
    "    usecoeffs.append(ca5)  # 向列表末尾添加对象\n",
    "\n",
    "    #软硬阈值\n",
    "    a = 0.5\n",
    "\n",
    "    for k in range(length1):\n",
    "        if (abs(cd1[k]) >= lamda):\n",
    "            cd1[k] = sgn(cd1[k]) * (abs(cd1[k]) - a * lamda)\n",
    "        else:\n",
    "            cd1[k] = 0.0\n",
    "\n",
    "    length2 = len(cd2)\n",
    "    for k in range(length2):\n",
    "        if (abs(cd2[k]) >= lamda):\n",
    "            cd2[k] = sgn(cd2[k]) * (abs(cd2[k]) - a * lamda)\n",
    "        else:\n",
    "            cd2[k] = 0.0\n",
    "\n",
    "    length3 = len(cd3)\n",
    "    for k in range(length3):\n",
    "        if (abs(cd3[k]) >= lamda):\n",
    "            cd3[k] = sgn(cd3[k]) * (abs(cd3[k]) - a * lamda)\n",
    "        else:\n",
    "            cd3[k] = 0.0\n",
    "\n",
    "    length4 = len(cd4)\n",
    "    for k in range(length4):\n",
    "        if (abs(cd4[k]) >= lamda):\n",
    "            cd4[k] = sgn(cd4[k]) * (abs(cd4[k]) - a * lamda)\n",
    "        else:\n",
    "            cd4[k] = 0.0\n",
    "\n",
    "    length5 = len(cd5)\n",
    "    for k in range(length5):\n",
    "        if (abs(cd5[k]) >= lamda):\n",
    "            cd5[k] = sgn(cd5[k]) * (abs(cd5[k]) - a * lamda)\n",
    "        else:\n",
    "            cd5[k] = 0.0\n",
    "\n",
    "    usecoeffs.append(cd5)\n",
    "    usecoeffs.append(cd4)\n",
    "    usecoeffs.append(cd3)\n",
    "    usecoeffs.append(cd2)\n",
    "    usecoeffs.append(cd1)\n",
    "    recoeffs = pywt.waverec(usecoeffs, w)\n",
    "    return recoeffs\n",
    "\n",
    "\n",
    "def denoise(x, data):\n",
    "    data_denoising = wavelet_noising(data)  #调用小波去噪函数\n",
    "    return (x, data_denoising)\n"
   ]
  },
  {
   "cell_type": "code",
   "execution_count": null,
   "id": "69e21b91",
   "metadata": {
    "scrolled": true,
    "ExecuteTime": {
     "start_time": "2024-08-14T15:19:21.967266Z"
    }
   },
   "outputs": [],
   "source": [
    "cleaned = wavelet_noising(breath['Ventilator Flow (L/min)'])\n",
    "#过滤前后对比图\n",
    "figure(figsize=(12, 5), dpi=200, linewidth=10)\n",
    "plt.plot(breath['Times'], breath['Ventilator Flow (L/min)'])\n",
    "plt.plot(breath['Times'], cleaned)\n",
    "plt.title('test')\n",
    "plt.xlabel('Times')\n",
    "plt.ylabel('Ventilator Flow (L/min)')\n",
    "plt.legend(['Ventilator Flow (L/min)','cleaned'])\n",
    "plt.show()"
   ]
  },
  {
   "cell_type": "code",
   "execution_count": null,
   "id": "aff9339e",
   "metadata": {
    "ExecuteTime": {
     "start_time": "2024-08-14T15:19:21.968265Z"
    }
   },
   "outputs": [],
   "source": [
    "data = breath['Ventilator Flow (L/min)']\n",
    "data = data.values.T.tolist()  # 将np.ndarray()转为列表\n",
    "w = pywt.Wavelet('sym8')\n",
    "# [ca3, cd3, cd2, cd1] = pywt.wavedec(data, w, level=3)  # 分解波\n",
    "[ca5, cd5, cd4, cd3, cd2, cd1] = pywt.wavedec(data, w, level=5)  # 分解波"
   ]
  },
  {
   "cell_type": "code",
   "execution_count": null,
   "id": "5d9d63bb",
   "metadata": {
    "ExecuteTime": {
     "start_time": "2024-08-14T15:19:21.969266Z"
    }
   },
   "outputs": [],
   "source": [
    "#cd数据可视化\n",
    "y = np.arange(300)\n",
    "figure(figsize=(12, 3), dpi=200)\n",
    "plt.plot(y, ca5[0:300])\n",
    "plt.title('ca5 DWT result')\n",
    "plt.show()"
   ]
  },
  {
   "cell_type": "code",
   "execution_count": null,
   "id": "d9a94579",
   "metadata": {
    "scrolled": true,
    "ExecuteTime": {
     "start_time": "2024-08-14T15:19:21.970266Z"
    }
   },
   "outputs": [],
   "source": [
    "#cd数据可视化\n",
    "y = np.arange(300)\n",
    "figure(figsize=(12, 3),dpi=200)\n",
    "plt.plot(y, cd5[0:300])\n",
    "plt.title('cd5 DWT result')\n",
    "plt.show()"
   ]
  },
  {
   "cell_type": "code",
   "execution_count": null,
   "id": "22d31097",
   "metadata": {
    "ExecuteTime": {
     "start_time": "2024-08-14T15:19:21.971266Z"
    }
   },
   "outputs": [],
   "source": [
    "#cd数据可视化\n",
    "y = np.arange(300)\n",
    "figure(figsize=(12, 3), dpi=200)\n",
    "plt.plot(y, cd4[0:300])\n",
    "plt.title('cd4 DWT result')\n",
    "plt.show()"
   ]
  },
  {
   "cell_type": "code",
   "execution_count": null,
   "id": "783632ad",
   "metadata": {},
   "outputs": [],
   "source": [
    "#cd数据可视化\n",
    "y = np.arange(300)\n",
    "figure(figsize=(12, 3), dpi=200)\n",
    "plt.plot(y, cd3[0:300])\n",
    "plt.title('cd3 DWT result')\n",
    "plt.show()"
   ]
  },
  {
   "cell_type": "code",
   "execution_count": null,
   "id": "aa5ae4eb",
   "metadata": {
    "ExecuteTime": {
     "start_time": "2024-08-14T15:19:21.973265Z"
    }
   },
   "outputs": [],
   "source": [
    "#cd数据可视化\n",
    "y = np.arange(300)\n",
    "figure(figsize=(12, 3), dpi=200)\n",
    "plt.plot(y, cd2[0:300])\n",
    "plt.title('cd2 DWT result')\n",
    "plt.show()"
   ]
  },
  {
   "cell_type": "code",
   "execution_count": null,
   "id": "139a0816",
   "metadata": {},
   "outputs": [],
   "source": [
    "#cd数据可视化\n",
    "y = np.arange(300)\n",
    "figure(figsize=(12, 3), dpi=200)\n",
    "plt.plot(y, cd1[0:300])\n",
    "plt.title('cd1 DWT result')\n",
    "plt.show()"
   ]
  },
  {
   "cell_type": "code",
   "execution_count": null,
   "id": "b2c4e265",
   "metadata": {
    "ExecuteTime": {
     "start_time": "2024-08-14T15:19:21.975266Z"
    }
   },
   "outputs": [],
   "source": [
    "import numpy as np\n",
    "import matplotlib.pyplot as plt\n",
    "import pywt\n",
    "\n",
    "m = breath['Ventilator Flow (L/min)']\n",
    "m = m.values.T.tolist() \n",
    "n = range(len(m))  # x = range(len(y))\n",
    "\n",
    "coeffs = pywt.wavedec(m, 'sym4', level=4)  # 4阶小波分解\n",
    "# (70,)(70,)(134,)(261,)(515,)\n",
    "ya4 = pywt.waverec(np.multiply(coeffs, [1, 0, 0, 0, 0]).tolist(), 'sym4')\n",
    "yd4 = pywt.waverec(np.multiply(coeffs, [0, 1, 0, 0, 0]).tolist(), 'sym4')\n",
    "yd3 = pywt.waverec(np.multiply(coeffs, [0, 0, 1, 0, 0]).tolist(), 'sym4')\n",
    "yd2 = pywt.waverec(np.multiply(coeffs, [0, 0, 0, 1, 0]).tolist(), 'sym4')\n",
    "yd1 = pywt.waverec(np.multiply(coeffs, [0, 0, 0, 0, 1]).tolist(), 'sym4')\n",
    "# (1024,) (1024,) (1024,) (1024,)\n",
    "\n",
    "plt.figure(figsize=(12, 12))\n",
    "plt.subplot(611)\n",
    "plt.plot(n, m)\n",
    "plt.title('original signal')\n",
    "plt.subplot(612)\n",
    "plt.plot(n, ya4)\n",
    "plt.title('approximated component in level 4')\n",
    "plt.subplot(613)\n",
    "plt.plot(n, yd4)\n",
    "plt.title('detailed component in level 4')\n",
    "plt.subplot(614)\n",
    "plt.plot(n, yd3)\n",
    "plt.title('detailed component in level 3')\n",
    "plt.subplot(615)\n",
    "plt.plot(n, yd2)\n",
    "plt.title('detailed component in level 2')\n",
    "plt.subplot(616)\n",
    "plt.plot(n, yd1)\n",
    "plt.title('detailed component in level 1')\n",
    "plt.tight_layout()\n",
    "plt.show()"
   ]
  },
  {
   "cell_type": "code",
   "execution_count": null,
   "id": "ce743c61",
   "metadata": {},
   "outputs": [],
   "source": []
  },
  {
   "cell_type": "code",
   "execution_count": null,
   "id": "19a6d997",
   "metadata": {
    "ExecuteTime": {
     "start_time": "2024-08-14T15:19:21.977309Z"
    }
   },
   "outputs": [],
   "source": []
  }
 ],
 "metadata": {
  "kernelspec": {
   "display_name": "Python 3 (ipykernel)",
   "language": "python",
   "name": "python3"
  },
  "language_info": {
   "codemirror_mode": {
    "name": "ipython",
    "version": 3
   },
   "file_extension": ".py",
   "mimetype": "text/x-python",
   "name": "python",
   "nbconvert_exporter": "python",
   "pygments_lexer": "ipython3",
   "version": "3.9.13"
  }
 },
 "nbformat": 4,
 "nbformat_minor": 5
}

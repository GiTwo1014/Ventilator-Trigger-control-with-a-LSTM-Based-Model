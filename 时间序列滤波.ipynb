{
 "cells": [
  {
   "cell_type": "code",
   "execution_count": 1,
   "id": "f72aab80",
   "metadata": {
    "ExecuteTime": {
     "end_time": "2024-08-14T15:19:28.531703Z",
     "start_time": "2024-08-14T15:19:28.002938Z"
    }
   },
   "outputs": [
    {
     "ename": "FileNotFoundError",
     "evalue": "[Errno 2] No such file or directory: 'Adult_Normal.xlsx'",
     "output_type": "error",
     "traceback": [
      "\u001B[1;31m---------------------------------------------------------------------------\u001B[0m",
      "\u001B[1;31mFileNotFoundError\u001B[0m                         Traceback (most recent call last)",
      "Cell \u001B[1;32mIn[1], line 2\u001B[0m\n\u001B[0;32m      1\u001B[0m \u001B[38;5;28;01mimport\u001B[39;00m \u001B[38;5;21;01mpandas\u001B[39;00m \u001B[38;5;28;01mas\u001B[39;00m \u001B[38;5;21;01mpd\u001B[39;00m\n\u001B[1;32m----> 2\u001B[0m passenger \u001B[38;5;241m=\u001B[39m \u001B[43mpd\u001B[49m\u001B[38;5;241;43m.\u001B[39;49m\u001B[43mread_excel\u001B[49m\u001B[43m(\u001B[49m\u001B[38;5;124;43m'\u001B[39;49m\u001B[38;5;124;43mAdult_Normal.xlsx\u001B[39;49m\u001B[38;5;124;43m'\u001B[39;49m\u001B[43m)\u001B[49m\n\u001B[0;32m      3\u001B[0m \u001B[38;5;66;03m# passenger['Times'] = pd.to_datetime(passenger['Times'])\u001B[39;00m\n\u001B[0;32m      4\u001B[0m passenger\u001B[38;5;241m.\u001B[39msort_values(by\u001B[38;5;241m=\u001B[39m[\u001B[38;5;124m'\u001B[39m\u001B[38;5;124mTimes\u001B[39m\u001B[38;5;124m'\u001B[39m], inplace\u001B[38;5;241m=\u001B[39m\u001B[38;5;28;01mTrue\u001B[39;00m, ascending\u001B[38;5;241m=\u001B[39m\u001B[38;5;28;01mTrue\u001B[39;00m)\n",
      "File \u001B[1;32mE:\\software\\python\\lib\\site-packages\\pandas\\io\\excel\\_base.py:495\u001B[0m, in \u001B[0;36mread_excel\u001B[1;34m(io, sheet_name, header, names, index_col, usecols, dtype, engine, converters, true_values, false_values, skiprows, nrows, na_values, keep_default_na, na_filter, verbose, parse_dates, date_parser, date_format, thousands, decimal, comment, skipfooter, storage_options, dtype_backend, engine_kwargs)\u001B[0m\n\u001B[0;32m    493\u001B[0m \u001B[38;5;28;01mif\u001B[39;00m \u001B[38;5;129;01mnot\u001B[39;00m \u001B[38;5;28misinstance\u001B[39m(io, ExcelFile):\n\u001B[0;32m    494\u001B[0m     should_close \u001B[38;5;241m=\u001B[39m \u001B[38;5;28;01mTrue\u001B[39;00m\n\u001B[1;32m--> 495\u001B[0m     io \u001B[38;5;241m=\u001B[39m \u001B[43mExcelFile\u001B[49m\u001B[43m(\u001B[49m\n\u001B[0;32m    496\u001B[0m \u001B[43m        \u001B[49m\u001B[43mio\u001B[49m\u001B[43m,\u001B[49m\n\u001B[0;32m    497\u001B[0m \u001B[43m        \u001B[49m\u001B[43mstorage_options\u001B[49m\u001B[38;5;241;43m=\u001B[39;49m\u001B[43mstorage_options\u001B[49m\u001B[43m,\u001B[49m\n\u001B[0;32m    498\u001B[0m \u001B[43m        \u001B[49m\u001B[43mengine\u001B[49m\u001B[38;5;241;43m=\u001B[39;49m\u001B[43mengine\u001B[49m\u001B[43m,\u001B[49m\n\u001B[0;32m    499\u001B[0m \u001B[43m        \u001B[49m\u001B[43mengine_kwargs\u001B[49m\u001B[38;5;241;43m=\u001B[39;49m\u001B[43mengine_kwargs\u001B[49m\u001B[43m,\u001B[49m\n\u001B[0;32m    500\u001B[0m \u001B[43m    \u001B[49m\u001B[43m)\u001B[49m\n\u001B[0;32m    501\u001B[0m \u001B[38;5;28;01melif\u001B[39;00m engine \u001B[38;5;129;01mand\u001B[39;00m engine \u001B[38;5;241m!=\u001B[39m io\u001B[38;5;241m.\u001B[39mengine:\n\u001B[0;32m    502\u001B[0m     \u001B[38;5;28;01mraise\u001B[39;00m \u001B[38;5;167;01mValueError\u001B[39;00m(\n\u001B[0;32m    503\u001B[0m         \u001B[38;5;124m\"\u001B[39m\u001B[38;5;124mEngine should not be specified when passing \u001B[39m\u001B[38;5;124m\"\u001B[39m\n\u001B[0;32m    504\u001B[0m         \u001B[38;5;124m\"\u001B[39m\u001B[38;5;124man ExcelFile - ExcelFile already has the engine set\u001B[39m\u001B[38;5;124m\"\u001B[39m\n\u001B[0;32m    505\u001B[0m     )\n",
      "File \u001B[1;32mE:\\software\\python\\lib\\site-packages\\pandas\\io\\excel\\_base.py:1550\u001B[0m, in \u001B[0;36mExcelFile.__init__\u001B[1;34m(self, path_or_buffer, engine, storage_options, engine_kwargs)\u001B[0m\n\u001B[0;32m   1548\u001B[0m     ext \u001B[38;5;241m=\u001B[39m \u001B[38;5;124m\"\u001B[39m\u001B[38;5;124mxls\u001B[39m\u001B[38;5;124m\"\u001B[39m\n\u001B[0;32m   1549\u001B[0m \u001B[38;5;28;01melse\u001B[39;00m:\n\u001B[1;32m-> 1550\u001B[0m     ext \u001B[38;5;241m=\u001B[39m \u001B[43minspect_excel_format\u001B[49m\u001B[43m(\u001B[49m\n\u001B[0;32m   1551\u001B[0m \u001B[43m        \u001B[49m\u001B[43mcontent_or_path\u001B[49m\u001B[38;5;241;43m=\u001B[39;49m\u001B[43mpath_or_buffer\u001B[49m\u001B[43m,\u001B[49m\u001B[43m \u001B[49m\u001B[43mstorage_options\u001B[49m\u001B[38;5;241;43m=\u001B[39;49m\u001B[43mstorage_options\u001B[49m\n\u001B[0;32m   1552\u001B[0m \u001B[43m    \u001B[49m\u001B[43m)\u001B[49m\n\u001B[0;32m   1553\u001B[0m     \u001B[38;5;28;01mif\u001B[39;00m ext \u001B[38;5;129;01mis\u001B[39;00m \u001B[38;5;28;01mNone\u001B[39;00m:\n\u001B[0;32m   1554\u001B[0m         \u001B[38;5;28;01mraise\u001B[39;00m \u001B[38;5;167;01mValueError\u001B[39;00m(\n\u001B[0;32m   1555\u001B[0m             \u001B[38;5;124m\"\u001B[39m\u001B[38;5;124mExcel file format cannot be determined, you must specify \u001B[39m\u001B[38;5;124m\"\u001B[39m\n\u001B[0;32m   1556\u001B[0m             \u001B[38;5;124m\"\u001B[39m\u001B[38;5;124man engine manually.\u001B[39m\u001B[38;5;124m\"\u001B[39m\n\u001B[0;32m   1557\u001B[0m         )\n",
      "File \u001B[1;32mE:\\software\\python\\lib\\site-packages\\pandas\\io\\excel\\_base.py:1402\u001B[0m, in \u001B[0;36minspect_excel_format\u001B[1;34m(content_or_path, storage_options)\u001B[0m\n\u001B[0;32m   1399\u001B[0m \u001B[38;5;28;01mif\u001B[39;00m \u001B[38;5;28misinstance\u001B[39m(content_or_path, \u001B[38;5;28mbytes\u001B[39m):\n\u001B[0;32m   1400\u001B[0m     content_or_path \u001B[38;5;241m=\u001B[39m BytesIO(content_or_path)\n\u001B[1;32m-> 1402\u001B[0m \u001B[38;5;28;01mwith\u001B[39;00m \u001B[43mget_handle\u001B[49m\u001B[43m(\u001B[49m\n\u001B[0;32m   1403\u001B[0m \u001B[43m    \u001B[49m\u001B[43mcontent_or_path\u001B[49m\u001B[43m,\u001B[49m\u001B[43m \u001B[49m\u001B[38;5;124;43m\"\u001B[39;49m\u001B[38;5;124;43mrb\u001B[39;49m\u001B[38;5;124;43m\"\u001B[39;49m\u001B[43m,\u001B[49m\u001B[43m \u001B[49m\u001B[43mstorage_options\u001B[49m\u001B[38;5;241;43m=\u001B[39;49m\u001B[43mstorage_options\u001B[49m\u001B[43m,\u001B[49m\u001B[43m \u001B[49m\u001B[43mis_text\u001B[49m\u001B[38;5;241;43m=\u001B[39;49m\u001B[38;5;28;43;01mFalse\u001B[39;49;00m\n\u001B[0;32m   1404\u001B[0m \u001B[43m\u001B[49m\u001B[43m)\u001B[49m \u001B[38;5;28;01mas\u001B[39;00m handle:\n\u001B[0;32m   1405\u001B[0m     stream \u001B[38;5;241m=\u001B[39m handle\u001B[38;5;241m.\u001B[39mhandle\n\u001B[0;32m   1406\u001B[0m     stream\u001B[38;5;241m.\u001B[39mseek(\u001B[38;5;241m0\u001B[39m)\n",
      "File \u001B[1;32mE:\\software\\python\\lib\\site-packages\\pandas\\io\\common.py:882\u001B[0m, in \u001B[0;36mget_handle\u001B[1;34m(path_or_buf, mode, encoding, compression, memory_map, is_text, errors, storage_options)\u001B[0m\n\u001B[0;32m    873\u001B[0m         handle \u001B[38;5;241m=\u001B[39m \u001B[38;5;28mopen\u001B[39m(\n\u001B[0;32m    874\u001B[0m             handle,\n\u001B[0;32m    875\u001B[0m             ioargs\u001B[38;5;241m.\u001B[39mmode,\n\u001B[1;32m   (...)\u001B[0m\n\u001B[0;32m    878\u001B[0m             newline\u001B[38;5;241m=\u001B[39m\u001B[38;5;124m\"\u001B[39m\u001B[38;5;124m\"\u001B[39m,\n\u001B[0;32m    879\u001B[0m         )\n\u001B[0;32m    880\u001B[0m     \u001B[38;5;28;01melse\u001B[39;00m:\n\u001B[0;32m    881\u001B[0m         \u001B[38;5;66;03m# Binary mode\u001B[39;00m\n\u001B[1;32m--> 882\u001B[0m         handle \u001B[38;5;241m=\u001B[39m \u001B[38;5;28;43mopen\u001B[39;49m\u001B[43m(\u001B[49m\u001B[43mhandle\u001B[49m\u001B[43m,\u001B[49m\u001B[43m \u001B[49m\u001B[43mioargs\u001B[49m\u001B[38;5;241;43m.\u001B[39;49m\u001B[43mmode\u001B[49m\u001B[43m)\u001B[49m\n\u001B[0;32m    883\u001B[0m     handles\u001B[38;5;241m.\u001B[39mappend(handle)\n\u001B[0;32m    885\u001B[0m \u001B[38;5;66;03m# Convert BytesIO or file objects passed with an encoding\u001B[39;00m\n",
      "\u001B[1;31mFileNotFoundError\u001B[0m: [Errno 2] No such file or directory: 'Adult_Normal.xlsx'"
     ]
    }
   ],
   "source": [
    "import pandas as pd\n",
    "passenger = pd.read_excel('Adult_Normal.xlsx')\n",
    "# passenger['Times'] = pd.to_datetime(passenger['Times'])\n",
    "passenger.sort_values(by=['Times'], inplace=True, ascending=True)"
   ]
  },
  {
   "cell_type": "code",
   "execution_count": null,
   "id": "4a3da10f",
   "metadata": {},
   "outputs": [],
   "source": [
    "from matplotlib.pyplot import figure\n",
    "import matplotlib.pyplot as plt\n",
    " \n",
    "figure(figsize=(12, 5), dpi=80, linewidth=10)\n",
    "plt.plot(passenger['Times'], passenger['Ventilator Flow (L/min)'])\n",
    "plt.title('Air Passengers Raw Data with Missing Values')\n",
    "plt.xlabel('Times', fontsize=14)\n",
    "plt.ylabel('Ventilator Flow (L/min)', fontsize=14)\n",
    "plt.show()"
   ]
  },
  {
   "cell_type": "code",
   "execution_count": null,
   "id": "dcdf78c2",
   "metadata": {
    "ExecuteTime": {
     "start_time": "2024-08-14T15:19:28.534703Z"
    }
   },
   "outputs": [],
   "source": [
    "\"\"\"\n",
    "补充缺失值  样条插值+线性插值\n",
    "\"\"\"\n",
    "passenger['Linear'] = passenger['Ventilator Flow (L/min)'].interpolate(method='linear')\n",
    "passenger['Spline order 3'] = passenger['Ventilator Flow (L/min)'].interpolate(method='spline', order=3) \n",
    "# passenger['Time'] = passenger['Ventilator Flow (L/min)'].interpolate(method='time')\n",
    " \n",
    "methods = ['Linear', 'Spline order 3']\n",
    "from matplotlib.pyplot import figure\n",
    "import matplotlib.pyplot as plt\n",
    "for method in methods:\n",
    "    figure(figsize=(12, 4), dpi=80, linewidth=10)\n",
    "    plt.plot(passenger['Times'], passenger[method])\n",
    "    plt.title('Air Passengers Imputation using: ')\n",
    "    plt.xlabel(\"Times\", fontsize=14)\n",
    "    plt.ylabel(\"Ventilator Flow (L/min)\", fontsize=14)\n",
    "    plt.show()"
   ]
  },
  {
   "cell_type": "code",
   "execution_count": null,
   "id": "7ac41a71",
   "metadata": {
    "ExecuteTime": {
     "start_time": "2024-08-14T15:19:28.535703Z"
    }
   },
   "outputs": [],
   "source": [
    "\"\"\"\n",
    "滚动平均值去除噪声\n",
    "\"\"\"\n",
    "rolling_passenger = passenger['Ventilator Flow (L/min)'].rolling(20).mean()\n",
    "plt.plot(passenger['Times'], passenger['Ventilator Flow (L/min)'])\n",
    "plt.plot(passenger['Times'], rolling_passenger)\n",
    "plt.xlabel('Times')\n",
    "plt.ylabel('Ventilator Flow (L/min)')\n",
    "plt.legend(['Ventilator Flow (L/min)','Rolling Mean'])\n",
    "plt.show()"
   ]
  },
  {
   "cell_type": "code",
   "execution_count": null,
   "id": "68edc01b",
   "metadata": {
    "ExecuteTime": {
     "start_time": "2024-08-14T15:19:28.536703Z"
    }
   },
   "outputs": [],
   "source": [
    "\"\"\"\n",
    "傅立叶测试页\n",
    "\"\"\""
   ]
  },
  {
   "cell_type": "code",
   "execution_count": null,
   "id": "58c18b3f",
   "metadata": {
    "ExecuteTime": {
     "start_time": "2024-08-14T15:19:28.537703Z"
    }
   },
   "outputs": [],
   "source": [
    "# Generate synthetic signal for testing purposes\n",
    "import numpy as np\n",
    "fs = 1 # Hz\n",
    "f0 = 0.002/fs\n",
    "f1 = 0.01/fs\n",
    "dt = 1/fs\n",
    "t = np.arange(200, 900)*dt\n",
    "m = (25-5)/(t[-1]-t[0])\n",
    "phi = 4.2\n",
    "x = 5 + m*(t-t[0]) + 2*np.sin(2*np.pi*f0*t) + 1*np.sin(2*np.pi*f1*t+phi) + 0.2*np.random.randn(len(t))\n",
    "y = np.arange(700)"
   ]
  },
  {
   "cell_type": "code",
   "execution_count": null,
   "id": "a167eef5",
   "metadata": {
    "ExecuteTime": {
     "start_time": "2024-08-14T15:19:28.537703Z"
    }
   },
   "outputs": [],
   "source": [
    "from matplotlib.pyplot import figure\n",
    "import matplotlib.pyplot as plt\n",
    " \n",
    "figure(figsize=(12, 5), dpi=80, linewidth=10)\n",
    "plt.plot(y, x)\n",
    "plt.title('test')\n",
    "plt.xlabel('Times', fontsize=14)\n",
    "plt.ylabel('Ventilator Flow (L/min)', fontsize=14)\n",
    "plt.show()"
   ]
  },
  {
   "cell_type": "code",
   "execution_count": null,
   "id": "144666dd",
   "metadata": {
    "ExecuteTime": {
     "start_time": "2024-08-14T15:19:28.538703Z"
    }
   },
   "outputs": [],
   "source": [
    "import numpy as np\n",
    "\n",
    "# Design denoising filter\n",
    "def freq_sampling_filter(x, n_components):\n",
    "  n = len(x)\n",
    "\n",
    "  # compute the fft\n",
    "  fft = np.fft.fft(x, n)\n",
    "\n",
    "  # compute power spectrum density\n",
    "  # squared magnitud of each fft coefficient\n",
    "  PSD = fft * np.conj(fft) / n\n",
    "\n",
    "  # keep frequencies with large contributions\n",
    "  _mask = PSD > n_components\n",
    "  _coff = np.fft.fftshift(np.real(np.fft.ifft(_mask)))\n",
    "  return _coff\n",
    "\n",
    "coff = freq_sampling_filter(x, 0.05)"
   ]
  },
  {
   "cell_type": "code",
   "execution_count": null,
   "id": "d90a98f1",
   "metadata": {},
   "outputs": [],
   "source": [
    "figure(figsize=(12, 5), dpi=80, linewidth=10)\n",
    "plt.plot(y, coff)\n",
    "plt.title('test')\n",
    "plt.xlabel('Times', fontsize=14)\n",
    "plt.ylabel('Ventilator Flow (L/min)', fontsize=14)\n",
    "plt.show()"
   ]
  },
  {
   "cell_type": "code",
   "execution_count": null,
   "id": "6d2816cc",
   "metadata": {},
   "outputs": [],
   "source": [
    "from scipy.signal import filtfilt\n",
    "\n",
    "# apply the denoising filter\n",
    "cleaned = filtfilt(coff, 1, x, padlen=len(x)-1, padtype='constant')"
   ]
  },
  {
   "cell_type": "code",
   "execution_count": null,
   "id": "1e409ef3",
   "metadata": {
    "ExecuteTime": {
     "start_time": "2024-08-14T15:19:28.541703Z"
    }
   },
   "outputs": [],
   "source": [
    "figure(figsize=(12, 5), dpi=80, linewidth=10)\n",
    "plt.plot(y, cleaned)\n",
    "plt.title('test')\n",
    "plt.xlabel('Times', fontsize=14)\n",
    "plt.ylabel('Ventilator Flow (L/min)', fontsize=14)\n",
    "plt.show()\n",
    "#过滤前后对比图\n",
    "\n",
    "plt.plot(y, x)\n",
    "plt.plot(y, cleaned)\n",
    "plt.xlabel('Times')\n",
    "plt.ylabel('Ventilator Flow (L/min)')\n",
    "plt.legend(['Ventilator Flow (L/min)','cleaned'])\n",
    "plt.show()"
   ]
  },
  {
   "cell_type": "code",
   "execution_count": null,
   "id": "56277b5b",
   "metadata": {
    "ExecuteTime": {
     "start_time": "2024-08-14T15:19:28.542727Z"
    }
   },
   "outputs": [],
   "source": [
    "import pandas as pd\n",
    "from matplotlib.pyplot import figure\n",
    "import matplotlib.pyplot as plt\n",
    "\n",
    "#breath数据读取\n",
    "breath = pd.read_excel('Adult_Normal.xlsx')\n",
    "#### passenger['Times'] = pd.to_datetime(passenger['Times'])\n",
    "breath.sort_values(by=['Times'], inplace=True, ascending=True)\n",
    "#breath数据可视化\n",
    "figure(figsize=(12, 5), dpi=80, linewidth=10)\n",
    "plt.plot(breath['Times'], breath['Ventilator Flow (L/min)'])\n",
    "plt.title('----')\n",
    "plt.xlabel('Times', fontsize=14)\n",
    "plt.ylabel('Ventilator Flow (L/min)', fontsize=14)\n",
    "plt.show()"
   ]
  },
  {
   "cell_type": "code",
   "execution_count": null,
   "id": "ec8fa979",
   "metadata": {},
   "outputs": [],
   "source": [
    "\"\"\"傅立叶去时间序列噪声\"\"\"\n",
    "import numpy as np\n",
    "\n",
    "# Design denoising filter\n",
    "def freq_sampling_filter(x, n_components):\n",
    "  n = len(x)\n",
    "\n",
    "  # compute the fft\n",
    "  fft = np.fft.fft(x, n)\n",
    "\n",
    "  # compute power spectrum density\n",
    "  # squared magnitud of each fft coefficient\n",
    "  PSD = fft * np.conj(fft) / n\n",
    "\n",
    "  # keep frequencies with large contributions\n",
    "  _mask = PSD > n_components\n",
    "  _coff = np.fft.fftshift(np.real(np.fft.ifft(_mask)))\n",
    "  return _coff\n",
    "\n",
    "coff = freq_sampling_filter(breath['Ventilator Flow (L/min)'], 0.5)\n",
    "coff1 = freq_sampling_filter(breath['Tracheal Pressure (cmH2O)'], 0.5)\n",
    "#可视化频域图\n",
    "figure(figsize=(12, 5), dpi=80, linewidth=10)\n",
    "plt.plot(breath['Times'], coff)\n",
    "plt.title('test')\n",
    "plt.xlabel('Times', fontsize=14)\n",
    "plt.ylabel('Ventilator Flow (L/min)', fontsize=14)\n",
    "plt.show()\n"
   ]
  },
  {
   "cell_type": "code",
   "execution_count": null,
   "id": "19a18b92",
   "metadata": {
    "ExecuteTime": {
     "start_time": "2024-08-14T15:19:28.545703Z"
    }
   },
   "outputs": [],
   "source": []
  },
  {
   "cell_type": "code",
   "execution_count": null,
   "id": "565955ac",
   "metadata": {
    "ExecuteTime": {
     "start_time": "2024-08-14T15:19:28.546704Z"
    }
   },
   "outputs": [],
   "source": [
    "from scipy.signal import filtfilt\n",
    "\n",
    "# apply the denoising filter\n",
    "cleaned = filtfilt(coff, 1, breath['Ventilator Flow (L/min)'], padlen=len(breath['Ventilator Flow (L/min)'])-1, padtype='constant')\n",
    "cleaned1 = filtfilt(coff1, 1, breath['Tracheal Pressure (cmH2O)'], padlen=len(breath['Tracheal Pressure (cmH2O)'])-1, padtype='constant')\n",
    "#过滤后图像\n",
    "figure(figsize=(12, 5), dpi=80, linewidth=10)\n",
    "plt.plot(breath['Times'], cleaned)\n",
    "plt.title('test')\n",
    "plt.xlabel('Times', fontsize=14)\n",
    "plt.ylabel('Ventilator Flow (L/min)', fontsize=14)\n",
    "plt.show()"
   ]
  },
  {
   "cell_type": "code",
   "execution_count": null,
   "id": "cf87037d",
   "metadata": {
    "scrolled": true,
    "ExecuteTime": {
     "start_time": "2024-08-14T15:19:28.547703Z"
    }
   },
   "outputs": [],
   "source": [
    "#过滤前后对比图\n",
    "figure(figsize=(12, 5), dpi=350, linewidth=10)\n",
    "plt.plot(breath['Times'], cleaned)\n",
    "plt.plot(breath['Times'], breath['Ventilator Flow (L/min)'] )\n",
    "plt.xlabel('Sampling Point')\n",
    "plt.ylabel('Ventilator Flow (L/min)')\n",
    "plt.legend(['Ventilator Flow','Denoising Flow'])\n",
    "plt.show()"
   ]
  },
  {
   "cell_type": "code",
   "execution_count": null,
   "id": "e75532c4",
   "metadata": {
    "ExecuteTime": {
     "start_time": "2024-08-14T15:19:28.548704Z"
    }
   },
   "outputs": [],
   "source": [
    "#过滤前后对比图\n",
    "figure(figsize=(12, 5), dpi=200, linewidth=10)\n",
    "plt.plot(breath['Times'], cleaned1)\n",
    "plt.plot(breath['Times'], breath['Tracheal Pressure (cmH2O)'] )\n",
    "plt.xlabel('Sampling Point')\n",
    "plt.ylabel('Tracheal Pressure (cmH2O)')\n",
    "plt.legend(['Tracheal Pressure','Denoising Pressure'])\n",
    "plt.show()"
   ]
  },
  {
   "cell_type": "code",
   "execution_count": null,
   "id": "ef12ad1f",
   "metadata": {},
   "outputs": [],
   "source": [
    "import numpy as np\n",
    "import matplotlib.pyplot as plt\n",
    "import pywt\n",
    "import math\n",
    "import pandas as pd\n",
    "from matplotlib.pyplot import figure\n",
    "\n",
    "m = breath['Ventilator Flow (L/min)']\n",
    "m = m.values.T.tolist() \n",
    "n = range(len(m))  # x = range(len(y))\n",
    "\n",
    "coeffs = pywt.wavedec(m, 'sym4', level=4)  # 4阶小波分解\n",
    "# (70,)(70,)(134,)(261,)(515,)\n",
    "ya4 = pywt.waverec(np.multiply(coeffs, [1, 0, 0, 0, 0]).tolist(), 'sym4')\n",
    "yd4 = pywt.waverec(np.multiply(coeffs, [0, 1, 0, 0, 0]).tolist(), 'sym4')\n",
    "yd3 = pywt.waverec(np.multiply(coeffs, [0, 0, 1, 0, 0]).tolist(), 'sym4')\n",
    "yd2 = pywt.waverec(np.multiply(coeffs, [0, 0, 0, 1, 0]).tolist(), 'sym4')\n",
    "yd1 = pywt.waverec(np.multiply(coeffs, [0, 0, 0, 0, 1]).tolist(), 'sym4')\n",
    "# (1024,) (1024,) (1024,) (1024,)\n",
    "\n",
    "plt.figure(figsize=(12, 12))\n",
    "# plt.subplot(611)\n",
    "# plt.plot(n, ya4)\n",
    "# plt.title('original signal')\n",
    "plt.subplot(612)\n",
    "plt.plot(n, cleaned)\n",
    "plt.title('approximated component in level 4(ca4)')\n",
    "plt.subplot(613)\n",
    "plt.plot(n, yd4)\n",
    "plt.title('detailed component in level 4(cd4)')\n",
    "plt.subplot(614)\n",
    "plt.plot(n, yd3)\n",
    "plt.title('detailed component in level 3(cd3)')\n",
    "plt.subplot(615)\n",
    "plt.plot(n, yd2)\n",
    "plt.title('detailed component in level 2(cd2)')\n",
    "plt.subplot(616)\n",
    "plt.plot(n, yd1)\n",
    "plt.title('detailed component in level 1(cd1)')\n",
    "plt.tight_layout()\n",
    "plt.show()\n"
   ]
  },
  {
   "cell_type": "code",
   "execution_count": null,
   "id": "a7b7bb3d",
   "metadata": {
    "ExecuteTime": {
     "start_time": "2024-08-14T15:19:28.550703Z"
    }
   },
   "outputs": [],
   "source": []
  },
  {
   "cell_type": "code",
   "execution_count": null,
   "id": "d74abecf",
   "metadata": {
    "ExecuteTime": {
     "start_time": "2024-08-14T15:19:28.551704Z"
    }
   },
   "outputs": [],
   "source": []
  },
  {
   "cell_type": "code",
   "execution_count": null,
   "id": "eddf6423",
   "metadata": {
    "ExecuteTime": {
     "start_time": "2024-08-14T15:19:28.553703Z"
    }
   },
   "outputs": [],
   "source": []
  }
 ],
 "metadata": {
  "kernelspec": {
   "display_name": "Python 3 (ipykernel)",
   "language": "python",
   "name": "python3"
  },
  "language_info": {
   "codemirror_mode": {
    "name": "ipython",
    "version": 3
   },
   "file_extension": ".py",
   "mimetype": "text/x-python",
   "name": "python",
   "nbconvert_exporter": "python",
   "pygments_lexer": "ipython3",
   "version": "3.9.13"
  }
 },
 "nbformat": 4,
 "nbformat_minor": 5
}

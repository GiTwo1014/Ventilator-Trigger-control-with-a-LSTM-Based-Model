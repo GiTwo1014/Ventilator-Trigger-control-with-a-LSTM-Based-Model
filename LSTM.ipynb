{
 "cells": [
  {
   "cell_type": "code",
   "outputs": [
    {
     "ename": "ModuleNotFoundError",
     "evalue": "No module named 'tensorflow.compat'",
     "output_type": "error",
     "traceback": [
      "\u001B[1;31m---------------------------------------------------------------------------\u001B[0m",
      "\u001B[1;31mModuleNotFoundError\u001B[0m                       Traceback (most recent call last)",
      "Cell \u001B[1;32mIn[26], line 3\u001B[0m\n\u001B[0;32m      1\u001B[0m \u001B[38;5;28;01mimport\u001B[39;00m \u001B[38;5;21;01mpandas\u001B[39;00m \u001B[38;5;28;01mas\u001B[39;00m \u001B[38;5;21;01mpd\u001B[39;00m\n\u001B[0;32m      2\u001B[0m \u001B[38;5;66;03m#from tensorflow import keras\u001B[39;00m\n\u001B[1;32m----> 3\u001B[0m \u001B[38;5;28;01mimport\u001B[39;00m \u001B[38;5;21;01mkeras\u001B[39;00m\n\u001B[0;32m      4\u001B[0m \u001B[38;5;28;01mimport\u001B[39;00m \u001B[38;5;21;01mnumpy\u001B[39;00m \u001B[38;5;28;01mas\u001B[39;00m \u001B[38;5;21;01mnp\u001B[39;00m\n\u001B[0;32m      5\u001B[0m \u001B[38;5;28;01mimport\u001B[39;00m \u001B[38;5;21;01mtf\u001B[39;00m\n",
      "File \u001B[1;32m~\\AppData\\Roaming\\Python\\Python310\\site-packages\\keras\\__init__.py:21\u001B[0m\n\u001B[0;32m     15\u001B[0m \u001B[38;5;124;03m\"\"\"Implementation of the Keras API, the high-level API of TensorFlow.\u001B[39;00m\n\u001B[0;32m     16\u001B[0m \n\u001B[0;32m     17\u001B[0m \u001B[38;5;124;03mDetailed documentation and user guides are available at\u001B[39;00m\n\u001B[0;32m     18\u001B[0m \u001B[38;5;124;03m[keras.io](https://keras.io).\u001B[39;00m\n\u001B[0;32m     19\u001B[0m \u001B[38;5;124;03m\"\"\"\u001B[39;00m\n\u001B[0;32m     20\u001B[0m \u001B[38;5;28;01mfrom\u001B[39;00m \u001B[38;5;21;01mkeras\u001B[39;00m \u001B[38;5;28;01mimport\u001B[39;00m distribute\n\u001B[1;32m---> 21\u001B[0m \u001B[38;5;28;01mfrom\u001B[39;00m \u001B[38;5;21;01mkeras\u001B[39;00m \u001B[38;5;28;01mimport\u001B[39;00m models\n\u001B[0;32m     22\u001B[0m \u001B[38;5;28;01mfrom\u001B[39;00m \u001B[38;5;21;01mkeras\u001B[39;00m\u001B[38;5;21;01m.\u001B[39;00m\u001B[38;5;21;01mengine\u001B[39;00m\u001B[38;5;21;01m.\u001B[39;00m\u001B[38;5;21;01minput_layer\u001B[39;00m \u001B[38;5;28;01mimport\u001B[39;00m Input\n\u001B[0;32m     23\u001B[0m \u001B[38;5;28;01mfrom\u001B[39;00m \u001B[38;5;21;01mkeras\u001B[39;00m\u001B[38;5;21;01m.\u001B[39;00m\u001B[38;5;21;01mengine\u001B[39;00m\u001B[38;5;21;01m.\u001B[39;00m\u001B[38;5;21;01msequential\u001B[39;00m \u001B[38;5;28;01mimport\u001B[39;00m Sequential\n",
      "File \u001B[1;32m~\\AppData\\Roaming\\Python\\Python310\\site-packages\\keras\\models\\__init__.py:18\u001B[0m\n\u001B[0;32m      1\u001B[0m \u001B[38;5;66;03m# Copyright 2022 The TensorFlow Authors. All Rights Reserved.\u001B[39;00m\n\u001B[0;32m      2\u001B[0m \u001B[38;5;66;03m#\u001B[39;00m\n\u001B[0;32m      3\u001B[0m \u001B[38;5;66;03m# Licensed under the Apache License, Version 2.0 (the \"License\");\u001B[39;00m\n\u001B[1;32m   (...)\u001B[0m\n\u001B[0;32m     13\u001B[0m \u001B[38;5;66;03m# limitations under the License.\u001B[39;00m\n\u001B[0;32m     14\u001B[0m \u001B[38;5;66;03m# ==============================================================================\u001B[39;00m\n\u001B[0;32m     15\u001B[0m \u001B[38;5;124;03m\"\"\"Keras models API.\"\"\"\u001B[39;00m\n\u001B[1;32m---> 18\u001B[0m \u001B[38;5;28;01mfrom\u001B[39;00m \u001B[38;5;21;01mkeras\u001B[39;00m\u001B[38;5;21;01m.\u001B[39;00m\u001B[38;5;21;01mengine\u001B[39;00m\u001B[38;5;21;01m.\u001B[39;00m\u001B[38;5;21;01mfunctional\u001B[39;00m \u001B[38;5;28;01mimport\u001B[39;00m Functional\n\u001B[0;32m     19\u001B[0m \u001B[38;5;28;01mfrom\u001B[39;00m \u001B[38;5;21;01mkeras\u001B[39;00m\u001B[38;5;21;01m.\u001B[39;00m\u001B[38;5;21;01mengine\u001B[39;00m\u001B[38;5;21;01m.\u001B[39;00m\u001B[38;5;21;01msequential\u001B[39;00m \u001B[38;5;28;01mimport\u001B[39;00m Sequential\n\u001B[0;32m     20\u001B[0m \u001B[38;5;28;01mfrom\u001B[39;00m \u001B[38;5;21;01mkeras\u001B[39;00m\u001B[38;5;21;01m.\u001B[39;00m\u001B[38;5;21;01mengine\u001B[39;00m\u001B[38;5;21;01m.\u001B[39;00m\u001B[38;5;21;01mtraining\u001B[39;00m \u001B[38;5;28;01mimport\u001B[39;00m Model\n",
      "File \u001B[1;32m~\\AppData\\Roaming\\Python\\Python310\\site-packages\\keras\\engine\\functional.py:24\u001B[0m\n\u001B[0;32m     21\u001B[0m \u001B[38;5;28;01mimport\u001B[39;00m \u001B[38;5;21;01mitertools\u001B[39;00m\n\u001B[0;32m     22\u001B[0m \u001B[38;5;28;01mimport\u001B[39;00m \u001B[38;5;21;01mwarnings\u001B[39;00m\n\u001B[1;32m---> 24\u001B[0m \u001B[38;5;28;01mimport\u001B[39;00m \u001B[38;5;21;01mtensorflow\u001B[39;00m\u001B[38;5;21;01m.\u001B[39;00m\u001B[38;5;21;01mcompat\u001B[39;00m\u001B[38;5;21;01m.\u001B[39;00m\u001B[38;5;21;01mv2\u001B[39;00m \u001B[38;5;28;01mas\u001B[39;00m \u001B[38;5;21;01mtf\u001B[39;00m\n\u001B[0;32m     26\u001B[0m \u001B[38;5;28;01mfrom\u001B[39;00m \u001B[38;5;21;01mkeras\u001B[39;00m \u001B[38;5;28;01mimport\u001B[39;00m backend\n\u001B[0;32m     27\u001B[0m \u001B[38;5;28;01mfrom\u001B[39;00m \u001B[38;5;21;01mkeras\u001B[39;00m\u001B[38;5;21;01m.\u001B[39;00m\u001B[38;5;21;01mdtensor\u001B[39;00m \u001B[38;5;28;01mimport\u001B[39;00m layout_map \u001B[38;5;28;01mas\u001B[39;00m layout_map_lib\n",
      "\u001B[1;31mModuleNotFoundError\u001B[0m: No module named 'tensorflow.compat'"
     ]
    }
   ],
   "source": [
    "import pandas as pd\n",
    "#from tensorflow import keras\n",
    "import keras\n",
    "import numpy as np\n",
    "import tensorflow as tf\n",
    "from sklearn.preprocessing import StandardScaler\n",
    "import matplotlib.pyplot as plt\n",
    "import statsmodels.api as sm\n",
    "from keras.utils import to_categorical\n",
    "from sklearn.model_selection import train_test_split\n",
    "from sklearn.metrics import classification_report\n",
    "from sklearn import metrics\n",
    "import datetime\n",
    "import numpy as np\n",
    "import seaborn as sns\n",
    "import matplotlib.pyplot as plt"
   ],
   "metadata": {
    "collapsed": false,
    "ExecuteTime": {
     "end_time": "2024-10-22T04:23:25.236248Z",
     "start_time": "2024-10-22T04:23:25.120733Z"
    }
   },
   "id": "eef15b3b49ca65e0",
   "execution_count": 26
  },
  {
   "cell_type": "code",
   "outputs": [],
   "source": [
    "# prepare training and test data\n",
    "def prepare_data():\n",
    "    df = pd.read_excel('1128 新标注数据 吸气18_19 呼气1_12随机8个位置.xlsx')\n",
    "    df['I/E']=df['I/E'].apply(lambda x:2 if x==-1 else x)\n",
    "    y = df['I/E'].astype('int64')\n",
    "    x = df.iloc[:, 0:25]\n",
    "    x_t = x.T\n",
    "    scaler_x = StandardScaler()\n",
    "    scaler_x.fit(x_t)\n",
    "    npx = scaler_x.transform(x_t)\n",
    "    npx=npx.T\n",
    "    y = np.array(y)\n",
    "    len(y)\n",
    "    npx = npx.reshape(39573,25,1)\n",
    "    x_train, x_test, y_train, y_test = train_test_split(npx,y,test_size=0.3,random_state=12,shuffle=True)\n",
    "    return x_train, x_test, y_train, y_test"
   ],
   "metadata": {
    "collapsed": false
   },
   "id": "10191a2f1712435d"
  },
  {
   "cell_type": "code",
   "outputs": [],
   "source": [
    "# build a lstm model\n",
    "def lstm_base_model():\n",
    "    input_data = keras.layers.Input(shape=(25,1))\n",
    "    lstm_out =keras.layers.LSTM(8,activation='tanh',return_sequences=True)(input_data)\n",
    "    lstm_out =keras.layers.Dropout(0.2)(lstm_out)\n",
    "    # lstm_out =keras.layers.LSTM(8,activation='tanh',return_sequences=True)(lstm_out)\n",
    "    # lstm_out =keras.layers.Dropout(0.2)(lstm_out)\n",
    "    lstm_out =keras.layers.LSTM(8,activation='tanh')(lstm_out)\n",
    "    lstm_out =keras.layers.Dropout(0.2)(lstm_out)\n",
    "    dense_out = keras.layers.Dense(4,activation='softmax')(lstm_out)\n",
    "    model = keras.Model(input_data, dense_out)\n",
    "    model.compile(optimizer='adam',loss='sparse_categorical_crossentropy',metrics=['accuracy'])\n",
    "    return model\n",
    "\n",
    "# sparse_categorical_crossentropy"
   ],
   "metadata": {
    "scrolled": true
   },
   "id": "4d8ebfd2",
   "execution_count": null
  },
  {
   "cell_type": "markdown",
   "source": [],
   "metadata": {
    "collapsed": false
   },
   "id": "f01a534a68aa6508"
  },
  {
   "cell_type": "code",
   "outputs": [],
   "source": [
    "#plot Loss and Accuracy \n",
    "def plot_history(history):\n",
    "    history.history.keys()\n",
    "    acc = history.history['accuracy']\n",
    "    val_acc = history.history['val_accuracy']\n",
    "    loss = history.history['loss']\n",
    "    val_loss = history.history['val_loss']\n",
    "    plt.figure(figsize=(6, 6), dpi=400)\n",
    "    plt.plot(acc, label='Training Accuracy')\n",
    "    plt.plot(val_acc, label='Validation Accuracy', color=\"#d6c5e8\")\n",
    "    plt.ylabel('Accuracy', fontsize=14)\n",
    "    plt.xlabel('Epoches', fontsize=14)\n",
    "    plt.legend(fontsize=10)\n",
    "    plt.savefig(\"accuracy1.png\", dpi=400)\n",
    "    plt.figure(figsize=(5,5), dpi=400)\n",
    "    plt.plot(loss, label='Training Loss')\n",
    "    plt.plot(val_loss, label='Validation Loss', color=\"#d6c5e8\")\n",
    "    plt.ylabel('Loss',fontsize=14)\n",
    "    plt.xlabel('Epoches',fontsize=14)\n",
    "    plt.legend(loc='upper right',fontsize=10, ncol=1, frameon=True)\n",
    "    plt.savefig(\"val_loss1\", dpi=400)"
   ],
   "metadata": {
    "collapsed": false
   },
   "id": "ac88cd102f2a736"
  },
  {
   "cell_type": "code",
   "outputs": [],
   "source": [
    "def paint_confusion_matrix(x_test, y_test):\n",
    "    sns.set()\n",
    "    score = model.evaluate(x_test, y_test, verbose=0)\n",
    "    pre = model.predict(x_test).argmax(1)\n",
    "    C2 = metrics.confusion_matrix(y_test, pre, labels=[0,1,2])\n",
    "    plt.figure()\n",
    "    classes = [0,1,2]\n",
    "    plt.imshow(C2, interpolation='nearest', cmap=plt.cm.Oranges)  # 按照像素显示出矩阵\n",
    "    plt.title('confusion_matrix')\n",
    "    plt.colorbar()\n",
    "    tick_marks = np.arange(len(classes))\n",
    "    plt.xticks(tick_marks, classes)\n",
    "    plt.yticks(tick_marks, classes)\n",
    "     \n",
    "    thresh = C2.max() / 2.\n",
    "    # iters = [[i,j] for i in range(len(classes)) for j in range((classes))]\n",
    "    # ij配对，遍历矩阵迭代器\n",
    "    iters = np.reshape([[[i, j] for j in range(len(classes))] for i in range(len(classes))], (C2.size, 2))\n",
    "    for i, j in iters:\n",
    "        plt.text(j, i, format(C2[i, j]))  # 显示对应的数字\n",
    "     \n",
    "    plt.ylabel('Real label')\n",
    "    plt.xlabel('Prediction')\n",
    "    plt.tight_layout()\n",
    "    plt.show()\n",
    "    # 误触发率计算\n",
    "    sum = 0\n",
    "    for i in range(len(classes)):\n",
    "        for j in range(len(classes)):\n",
    "            sum += C2[i,j]\n",
    "    sum_false = 0\n",
    "    for i in range(len(classes)):\n",
    "        for j in range(len(classes)):\n",
    "            if i != j:\n",
    "                sum_false += C2[i,j]\n",
    "    falsetriggerrate = sum_false/sum     # 误触发率\n",
    "    sns.set()\n",
    "    C2=np.array([[3057,15,16],[35,1142,9],[37,8,1144]])\n",
    "    plt.figure()\n",
    "    classes = [0,1,2]\n",
    "    plt.imshow(C2, interpolation='nearest', cmap=plt.cm.viridis)  # 按照像素显示出矩阵\n",
    "    plt.title('confusion_matrix')\n",
    "    plt.colorbar()\n",
    "    tick_marks = np.arange(len(classes))\n",
    "    plt.xticks(tick_marks, [\"Non-I/E\",\"Expiratory\",\"Inspiratory\"])\n",
    "    plt.yticks(tick_marks, [\"Non-I/E\",\"Expiratory\",\"Inspiratory\"], rotation=90)\n",
    "     \n",
    "    thresh = C2.max() / 2.\n",
    "    iters = np.reshape([[[i, j] for j in range(len(classes))] for i in range(len(classes))], (C2.size, 2))\n",
    "    for i, j in iters:\n",
    "        if i == j:\n",
    "            plt.text(j, i, format(C2[i, j]),ha='center', va='center', color='white')  # 显示对应的数字\n",
    "        else:\n",
    "            plt.text(j, i, format(C2[i, j]),ha='center', va='center', color='black')  # 显示对应的数字\n",
    "    plt.grid(False)\n",
    "    plt.ylabel('Real label')\n",
    "    plt.xlabel('Prediction')\n",
    "    plt.tight_layout()\n",
    "    plt.savefig(\"confusion_matrix.png\",dpi=300)"
   ],
   "metadata": {
    "collapsed": false
   },
   "id": "5698499b0dd86171"
  },
  {
   "cell_type": "code",
   "outputs": [],
   "source": [
    "# 1. prepare data\n",
    "x_train, x_test, y_train, y_test = prepare_data()\n",
    "# 2. build structure of lstm\n",
    "model = lstm_base_model()\n",
    "model.summary()\n",
    "# 3 train model\n",
    "history_training = model.fit(x_train,y_train,validation_split=0.1,epochs=600, batch_size=16)\n",
    "# 4 observe result\n",
    "plot_history(history_training)\n",
    "# 5. predict result by test data\n",
    "paint_confusion_matrix(x_test, y_test)"
   ],
   "metadata": {
    "collapsed": false
   },
   "id": "dd6547fd53699a83"
  }
 ],
 "metadata": {
  "kernelspec": {
   "display_name": "Python 3 (ipykernel)",
   "language": "python",
   "name": "python3"
  },
  "language_info": {
   "codemirror_mode": {
    "name": "ipython",
    "version": 3
   },
   "file_extension": ".py",
   "mimetype": "text/x-python",
   "name": "python",
   "nbconvert_exporter": "python",
   "pygments_lexer": "ipython3",
   "version": "3.6.13"
  }
 },
 "nbformat": 4,
 "nbformat_minor": 5
}
